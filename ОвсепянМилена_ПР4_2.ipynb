{
  "cells": [
    {
      "cell_type": "markdown",
      "source": [
        "**Практическая работа 4. Проектирование сквозного конвейера ETL на Python и Airflow.**\n",
        "\n",
        "**Задание 4.2.** Basic pipeline ETL\n",
        "\n",
        "4.2.1. **часть 1** Построить конвейер данных на основании Basic pipeline ETL.rar\n",
        "\n",
        "**часть 2** Набор данных использовать из Практическая работа 3. Работа с API. Тестовые наборы данных Kaggle API\n",
        "\n",
        "4.2.2. Результаты работы представить в виде файла ФИО.ipynb, выгрузить в учебный портал moodle."
      ],
      "metadata": {
        "id": "h06qb7D64R_G"
      }
    },
    {
      "cell_type": "markdown",
      "source": [
        "## **Задание 4.2.1. Часть 1.**\n",
        "Построить конвейер данных на основании Basic pipeline ETL.rar"
      ],
      "metadata": {
        "id": "o8aB4DeA9pel"
      }
    },
    {
      "cell_type": "markdown",
      "metadata": {
        "id": "8tQiXvjB4Mc0"
      },
      "source": [
        "### What is ETL?"
      ]
    },
    {
      "cell_type": "markdown",
      "metadata": {
        "id": "0By0g7r_4Mc4"
      },
      "source": [
        "ETL is actually short form of Extract, Transform and Load, a process in which data is acquired, changed/processes and then finally get loaded into data warehouse/database(s).\n",
        "\n",
        "You can extract data from data sources like Files, Website or some Database, transform the acquired data and then load the final version into database for business usage.\n",
        "\n",
        "You may ask, Why ETL?, well, what ETL does, many of you might already been doing one way or other by writing different functions/scripts to perform tasks but one of the main advantage of ETLs is visualizing your entire data flow pipeline thus help you make decisions according to that."
      ]
    },
    {
      "cell_type": "markdown",
      "metadata": {
        "id": "bdYgXUpt4Mc5"
      },
      "source": [
        "Let's start with building our own ETL pipeline.\n",
        "* Extract data from CSV file\n",
        "* Transform/Manipulate Data\n",
        "* Load Data into MongoDB"
      ]
    },
    {
      "cell_type": "code",
      "execution_count": null,
      "metadata": {
        "id": "xosqkt2p4Mc5"
      },
      "outputs": [],
      "source": [
        "# to read data from csv, python provides csv module\n",
        "import csv"
      ]
    },
    {
      "cell_type": "markdown",
      "metadata": {
        "id": "HE-UASnf4Mc6"
      },
      "source": [
        "To deal with files in Python, we use the open() function, it’s a built-in Python function. This function accepts two different arguments (inputs) in the parentheses, always in the following order:\n",
        "* the name of the file (as a string)\n",
        "* the mode of working with the file (as a string)\n",
        "\n",
        "The syntax to open a file in python is:\n",
        "\n",
        "file_obj = open(“filename”, “mode”)  "
      ]
    },
    {
      "cell_type": "code",
      "source": [
        "import csv\n",
        "\n",
        "with open('/content/crypto-markets.csv', 'r') as f:\n",
        "    csv_reader = csv.reader(f)\n",
        "    row_count = 0\n",
        "    for row in csv_reader:\n",
        "        if row_count < 14:\n",
        "            print(row)\n",
        "            row_count += 1\n",
        "        else:\n",
        "            break"
      ],
      "metadata": {
        "colab": {
          "base_uri": "https://localhost:8080/"
        },
        "id": "D5WLm-sK9W5d",
        "outputId": "f117615f-8e1c-4064-8615-7fb4110c0b8f"
      },
      "execution_count": null,
      "outputs": [
        {
          "output_type": "stream",
          "name": "stdout",
          "text": [
            "['slug', 'symbol', 'name', 'date', 'ranknow', 'open', 'high', 'low', 'close', 'volume', 'market', 'close_ratio', 'spread']\n",
            "['bitcoin', 'BTC', 'Bitcoin', '2013-04-28', '1', '135.3', '135.98', '132.1', '134.21', '0', '1488566728', '0.5438', '3.88']\n",
            "['bitcoin', 'BTC', 'Bitcoin', '2013-04-29', '1', '134.44', '147.49', '134', '144.54', '0', '1603768865', '0.7813', '13.49']\n",
            "['bitcoin', 'BTC', 'Bitcoin', '2013-04-30', '1', '144', '146.93', '134.05', '139', '0', '1542813125', '0.3843', '12.88']\n",
            "['bitcoin', 'BTC', 'Bitcoin', '2013-05-01', '1', '139', '139.89', '107.72', '116.99', '0', '1298954594', '0.2882', '32.17']\n",
            "['bitcoin', 'BTC', 'Bitcoin', '2013-05-02', '1', '116.38', '125.6', '92.28', '105.21', '0', '1168517495', '0.3881', '33.32']\n",
            "['bitcoin', 'BTC', 'Bitcoin', '2013-05-03', '1', '106.25', '108.13', '79.1', '97.75', '0', '1085995169', '0.6424', '29.03']\n",
            "['bitcoin', 'BTC', 'Bitcoin', '2013-05-04', '1', '98.1', '115', '92.5', '112.5', '0', '1250316563', '0.8889', '22.5']\n",
            "['bitcoin', 'BTC', 'Bitcoin', '2013-05-05', '1', '112.9', '118.8', '107.14', '115.91', '0', '1288693176', '0.7521', '11.66']\n",
            "['bitcoin', 'BTC', 'Bitcoin', '2013-05-06', '1', '115.98', '124.66', '106.64', '112.3', '0', '1249023060', '0.3141', '18.02']\n",
            "['bitcoin', 'BTC', 'Bitcoin', '2013-05-07', '1', '112.25', '113.44', '97.7', '111.5', '0', '1240593600', '0.8767', '15.74']\n",
            "['bitcoin', 'BTC', 'Bitcoin', '2013-05-08', '1', '109.6', '115.78', '109.6', '113.57', '0', '1264049202', '0.6424', '6.18']\n",
            "['bitcoin', 'BTC', 'Bitcoin', '2013-05-09', '1', '113.2', '113.46', '109.26', '112.67', '0', '1254535382', '0.8119', '4.2']\n",
            "['bitcoin', 'BTC', 'Bitcoin', '2013-05-10', '1', '112.8', '122', '111.55', '117.2', '0', '1305479080', '0.5407', '10.45']\n"
          ]
        }
      ]
    },
    {
      "cell_type": "code",
      "execution_count": null,
      "metadata": {
        "colab": {
          "base_uri": "https://localhost:8080/"
        },
        "id": "Pt_FeFjg4Mc7",
        "outputId": "190c42bb-3179-48d4-cae1-d8bd5ace7e10"
      },
      "outputs": [
        {
          "output_type": "stream",
          "name": "stdout",
          "text": [
            "<_csv.reader object at 0x7c51da5c3d80>\n"
          ]
        }
      ],
      "source": [
        "f = open(r'/content/crypto-markets.csv')\n",
        "# 'f' is a file handler here\n",
        "\n",
        "csv_reader = csv.reader(f)\n",
        "print(csv_reader)\n"
      ]
    },
    {
      "cell_type": "markdown",
      "metadata": {
        "id": "w-SRjSoO4Mc7"
      },
      "source": [
        "Transforming/Changing the data."
      ]
    },
    {
      "cell_type": "code",
      "execution_count": null,
      "metadata": {
        "colab": {
          "base_uri": "https://localhost:8080/"
        },
        "id": "_00P_0YS4Mc8",
        "outputId": "1a58cf09-9d7d-470a-a4bb-2d68e919e4d4"
      },
      "outputs": [
        {
          "output_type": "stream",
          "name": "stdout",
          "text": [
            "7239\n",
            "[['bitcoin', 'BTC', 'Bitcoin', '2013-04-28', '1', 101.47500000000001, 101.98499999999999, 99.07499999999999, 100.6575, '0', '1488566728', '0.5438', '3.88'], ['bitcoin', 'BTC', 'Bitcoin', '2013-04-29', '1', 100.83, 110.6175, 100.5, 108.405, '0', '1603768865', '0.7813', '13.49']]\n"
          ]
        }
      ],
      "source": [
        "assetsCode = ['BTC','ETH','XRP','LTC']\n",
        "\n",
        "# initialize empty list\n",
        "crypto_data = []\n",
        "\n",
        "next(csv_reader, None)  # skips the headers\n",
        "\n",
        "# read csv data row wise\n",
        "for row in csv_reader:\n",
        "    if(row[1] in assetsCode):  # check if current row consist of either 'BTC' or 'ETH' or 'XRP' or 'LTC' currency data\n",
        "        # convert open, high, low, close amount to float type first from str and then convert it into GBP\n",
        "        row[5] = float(row[5]) * 0.75\n",
        "        row[6] = float(row[6]) * 0.75\n",
        "        row[7] = float(row[7])* 0.75\n",
        "        row[8] = float(row[8]) * 0.75\n",
        "        crypto_data.append(row)\n",
        "\n",
        "# print(csv_reader.line_num)\n",
        "print(len(crypto_data))\n",
        "print(crypto_data[0:2])"
      ]
    },
    {
      "cell_type": "markdown",
      "metadata": {
        "id": "rzQqf-u74Mc8"
      },
      "source": [
        "Loading the data into SQL DB"
      ]
    },
    {
      "cell_type": "code",
      "execution_count": null,
      "metadata": {
        "id": "dR757-KG4Mc8"
      },
      "outputs": [],
      "source": [
        "import sqlite3\n",
        "\n",
        "# connect function opens a connection to the SQLite database file,\n",
        "conn = sqlite3.connect('session.db')\n",
        "#Similarly we will make connection with other databases like Oracle, DB2 etc."
      ]
    },
    {
      "cell_type": "code",
      "execution_count": null,
      "metadata": {
        "id": "0kwHoqmZ4Mc9"
      },
      "outputs": [],
      "source": [
        "# Drop a table name Crypto id it exists already\n",
        "try:\n",
        "    conn.execute('DROP TABLE IF EXISTS `Crypto` ')\n",
        "except Exception as e:\n",
        "    print(str(e))"
      ]
    },
    {
      "cell_type": "code",
      "execution_count": null,
      "metadata": {
        "colab": {
          "base_uri": "https://localhost:8080/"
        },
        "id": "-iR8nCPm4Mc9",
        "outputId": "974dca1b-c78c-49e5-8c9f-dfdb8c431e5f"
      },
      "outputs": [
        {
          "output_type": "stream",
          "name": "stdout",
          "text": [
            "Table created successfully\n"
          ]
        }
      ],
      "source": [
        "# Create a new Table named as Crypto\n",
        "try:\n",
        "    conn.execute('''\n",
        "         CREATE TABLE Crypto\n",
        "         (ID         INTEGER PRIMARY KEY,\n",
        "         NAME        TEXT    NOT NULL,\n",
        "         Date        datetime,\n",
        "         Open        Float DEFAULT 0,\n",
        "         High        Float DEFAULT 0,\n",
        "         Low         Float DEFAULT 0,\n",
        "         Close       Float DEFAULT 0);''')\n",
        "    print (\"Table created successfully\");\n",
        "except Exception as e:\n",
        "    print(str(e))\n",
        "    print('Table Creation Failed!!!!!')\n",
        "finally:\n",
        "    conn.close() # this closes the database connection"
      ]
    },
    {
      "cell_type": "code",
      "execution_count": null,
      "metadata": {
        "colab": {
          "base_uri": "https://localhost:8080/"
        },
        "id": "JWooeB904Mc9",
        "outputId": "adb4b0cc-7e6b-4410-d2b6-cb65464fcc9a"
      },
      "outputs": [
        {
          "output_type": "stream",
          "name": "stdout",
          "text": [
            "['bitcoin', 'BTC', 'Bitcoin', '2013-04-28', '1', 101.47500000000001, 101.98499999999999, 99.07499999999999, 100.6575, '0', '1488566728', '0.5438', '3.88']\n"
          ]
        }
      ],
      "source": [
        "# Since our crypto data contains more information than required so we need eliminate some of it.\n",
        "print(crypto_data[0])"
      ]
    },
    {
      "cell_type": "code",
      "execution_count": null,
      "metadata": {
        "colab": {
          "base_uri": "https://localhost:8080/"
        },
        "id": "d8qZ_zMa4Mc-",
        "outputId": "884ce0bb-d611-4c2e-ed7e-9c94a8a968e7"
      },
      "outputs": [
        {
          "output_type": "execute_result",
          "data": {
            "text/plain": [
              "[('Bitcoin',\n",
              "  '2013-04-28',\n",
              "  101.47500000000001,\n",
              "  101.98499999999999,\n",
              "  99.07499999999999,\n",
              "  100.6575),\n",
              " ('Bitcoin', '2013-04-29', 100.83, 110.6175, 100.5, 108.405)]"
            ]
          },
          "metadata": {},
          "execution_count": 9
        }
      ],
      "source": [
        "# Some more transformations\n",
        "crypto_sql_data = [(row[2], row[3], row[5], row[6], row[7], row[8]) for row in crypto_data]\n",
        "crypto_sql_data[:2]"
      ]
    },
    {
      "cell_type": "code",
      "execution_count": null,
      "metadata": {
        "colab": {
          "base_uri": "https://localhost:8080/"
        },
        "id": "XFpHJ51i4Mc-",
        "outputId": "bc56dc26-105e-46b6-d3c2-daedd711baf7"
      },
      "outputs": [
        {
          "output_type": "stream",
          "name": "stdout",
          "text": [
            "Data Inserted Successfully\n"
          ]
        }
      ],
      "source": [
        "# lets make new connection to Insert crypto data in SQL DB\n",
        "conn = sqlite3.connect('session.db')\n",
        "cur = conn.cursor()\n",
        "try:\n",
        "    cur.executemany(\"INSERT INTO Crypto(NAME, Date, Open, High, Low, Close) VALUES (?,?,?,?,?,?)\", crypto_sql_data)\n",
        "    conn.commit()\n",
        "    print('Data Inserted Successfully')\n",
        "except Exception as e:\n",
        "    print(str(e))\n",
        "    print('Data Insertion Failed')\n",
        "finally:\n",
        "    conn.close()"
      ]
    },
    {
      "cell_type": "code",
      "source": [
        "# Let's Read data from DB to verify it\n",
        "conn = sqlite3.connect('session.db')\n",
        "rows = conn.cursor().execute('SELECT * FROM Crypto').fetchall()\n",
        "#for row in rows:\n",
        "    #print(row)\n",
        "count = 0\n",
        "for i, row in enumerate(rows):\n",
        "    if i < 15:\n",
        "        print(row)\n",
        "    count += 1\n",
        "\n",
        "print(f\"Total rows: {count}\")"
      ],
      "metadata": {
        "colab": {
          "base_uri": "https://localhost:8080/"
        },
        "id": "WIV7ImnEKmTp",
        "outputId": "1cff8045-52f3-4952-f430-cab9022bfef4"
      },
      "execution_count": null,
      "outputs": [
        {
          "output_type": "stream",
          "name": "stdout",
          "text": [
            "(1, 'Bitcoin', '2013-04-28', 101.47500000000001, 101.98499999999999, 99.07499999999999, 100.6575)\n",
            "(2, 'Bitcoin', '2013-04-29', 100.83, 110.6175, 100.5, 108.405)\n",
            "(3, 'Bitcoin', '2013-04-30', 108.0, 110.1975, 100.53750000000001, 104.25)\n",
            "(4, 'Bitcoin', '2013-05-01', 104.25, 104.91749999999999, 80.78999999999999, 87.74249999999999)\n",
            "(5, 'Bitcoin', '2013-05-02', 87.285, 94.19999999999999, 69.21000000000001, 78.9075)\n",
            "(6, 'Bitcoin', '2013-05-03', 79.6875, 81.0975, 59.324999999999996, 73.3125)\n",
            "(7, 'Bitcoin', '2013-05-04', 73.57499999999999, 86.25, 69.375, 84.375)\n",
            "(8, 'Bitcoin', '2013-05-05', 84.67500000000001, 89.1, 80.355, 86.9325)\n",
            "(9, 'Bitcoin', '2013-05-06', 86.985, 93.495, 79.98, 84.225)\n",
            "(10, 'Bitcoin', '2013-05-07', 84.1875, 85.08, 73.275, 83.625)\n",
            "(11, 'Bitcoin', '2013-05-08', 82.19999999999999, 86.83500000000001, 82.19999999999999, 85.1775)\n",
            "(12, 'Bitcoin', '2013-05-09', 84.9, 85.095, 81.94500000000001, 84.5025)\n",
            "(13, 'Bitcoin', '2013-05-10', 84.6, 91.5, 83.6625, 87.9)\n",
            "(14, 'Bitcoin', '2013-05-11', 88.275, 89.01, 84.75750000000001, 86.42999999999999)\n",
            "(15, 'Bitcoin', '2013-05-12', 86.73, 88.0875, 85.0725, 86.25)\n",
            "Total rows: 7239\n"
          ]
        }
      ]
    },
    {
      "cell_type": "markdown",
      "metadata": {
        "id": "VborZEpo4Mc_"
      },
      "source": [
        "Write data in a csv file"
      ]
    },
    {
      "cell_type": "code",
      "execution_count": null,
      "metadata": {
        "id": "A7ekFn3O4Mc_"
      },
      "outputs": [],
      "source": [
        "csvfile = open('Crypto.csv', 'w')\n",
        "csv_writer = csv.writer(csvfile, lineterminator='\\r')\n",
        "# Now we can write data to files using two methods:\n",
        "# writerow() or writerows()\n",
        "# writerow() is used when we need to write one-dimension data such as a single list :[1, ‘Jerry’, 95]\n",
        "# writerows() is used when we need to write multi-dimension data such as list of list [[1, ‘Jerry’, 95], [2, ‘Tom’, 80], [3, ‘Scooby’, 90]]\n",
        "# So the only difference is that writerows() lets you pass multiple values!\n",
        "csv_writer.writerow(['Name', 'Date', 'Open', 'High', 'Low', 'Close'])\n",
        "csv_writer.writerows(crypto_sql_data)\n",
        "csvfile.close()"
      ]
    },
    {
      "cell_type": "markdown",
      "source": [
        "## **Задание 4.2.1. Часть 2.**\n",
        "Построить конвейер данных, используя набор данных из \"Практическая работа 3. Работа с API. Тестовые наборы данных Kaggle API\"\n",
        "\n",
        "Вариант 10. Home & Living\n"
      ],
      "metadata": {
        "id": "ro4eXTaAHakL"
      }
    },
    {
      "cell_type": "markdown",
      "source": [
        "По итогу выполнения практической работы 3 был сформирован файл clear.csv.\n",
        "Используем его:"
      ],
      "metadata": {
        "id": "B3ZQ5OG_-fn-"
      }
    },
    {
      "cell_type": "markdown",
      "source": [
        "Просмотрим содержимое файла:"
      ],
      "metadata": {
        "id": "Pv1SJHml-wst"
      }
    },
    {
      "cell_type": "code",
      "source": [
        "import csv\n",
        "with open('clear.csv', newline='') as csvfile:\n",
        "    csv_reader1 = csv.reader(csvfile, delimiter=',')\n",
        "\n",
        "    for row in csv_reader1:\n",
        "        print(row)"
      ],
      "metadata": {
        "id": "Fm0kHIpv_eeu",
        "colab": {
          "base_uri": "https://localhost:8080/"
        },
        "outputId": "681c8626-b1a4-4fd2-c975-ca1127f01663"
      },
      "execution_count": null,
      "outputs": [
        {
          "output_type": "stream",
          "name": "stdout",
          "text": [
            "['HDI rank', 'Country', 'HUMAN DEVELOPMENT', 'Human Development Index (HDI) ', 'Life expectancy at birth', 'Expected years of schooling', 'Mean years of schooling', 'Gross national income (GNI) per capita']\n",
            "['1', 'Switzerland', 'VERY HIGH ', '0.962', '84.0', '16.5', '13.9', '66933.0']\n",
            "['2', 'Norway', 'VERY HIGH ', '0.961', '83.2', '18.2', '13.0', '64660.0']\n",
            "['3', 'Iceland', 'VERY HIGH ', '0.959', '82.7', '19.2', '13.8', '55782.0']\n",
            "['4', 'Hong Kong, China (SAR)', 'VERY HIGH ', '0.952', '85.5', '17.3', '12.2', '62607.0']\n",
            "['5', 'Australia', 'VERY HIGH ', '0.951', '84.5', '21.1', '12.7', '49238.0']\n",
            "['6', 'Denmark', 'VERY HIGH ', '0.948', '81.4', '18.7', '13.0', '60365.0']\n",
            "['7', 'Sweden', 'VERY HIGH ', '0.947', '83.0', '19.4', '12.6', '54489.0']\n",
            "['8', 'Ireland', 'VERY HIGH ', '0.945', '82.0', '18.9', '11.6', '76169.0']\n",
            "['9', 'Germany', 'VERY HIGH ', '0.942', '80.6', '17.0', '14.1', '54534.0']\n",
            "['10', 'Netherlands', 'VERY HIGH ', '0.941', '81.7', '18.7', '12.6', '55979.0']\n",
            "['11', 'Finland', 'VERY HIGH ', '0.94', '82.0', '19.1', '12.9', '49452.0']\n",
            "['12', 'Singapore', 'VERY HIGH ', '0.939', '82.8', '16.5', '11.9', '90919.0']\n",
            "['13', 'Belgium', 'VERY HIGH ', '0.937', '81.9', '19.6', '12.4', '52293.0']\n",
            "['13', 'New Zealand', 'VERY HIGH ', '0.937', '82.5', '20.3', '12.9', '44057.0']\n",
            "['15', 'Canada', 'VERY HIGH ', '0.936', '82.7', '16.4', '13.8', '46808.0']\n",
            "['16', 'Liechtenstein', 'VERY HIGH ', '0.935', '83.3', '15.2', '12.5', '146830.0']\n",
            "['17', 'Luxembourg', 'VERY HIGH ', '0.93', '82.6', '14.4', '13.0', '84649.0']\n",
            "['18', 'United Kingdom', 'VERY HIGH ', '0.929', '80.7', '17.3', '13.4', '45225.0']\n",
            "['19', 'Japan', 'VERY HIGH ', '0.925', '84.8', '15.2', '13.4', '42274.0']\n",
            "['19', 'Korea (Republic of)', 'VERY HIGH ', '0.925', '83.7', '16.5', '12.5', '44501.0']\n",
            "['21', 'United States', 'VERY HIGH ', '0.921', '77.2', '16.3', '13.7', '64765.0']\n",
            "['22', 'Israel', 'VERY HIGH ', '0.919', '82.3', '16.1', '13.3', '41524.0']\n",
            "['23', 'Malta', 'VERY HIGH ', '0.918', '83.8', '16.8', '12.2', '38884.0']\n",
            "['23', 'Slovenia', 'VERY HIGH ', '0.918', '80.7', '17.7', '12.8', '39746.0']\n",
            "['25', 'Austria', 'VERY HIGH ', '0.916', '81.6', '16.0', '12.3', '53619.0']\n",
            "['26', 'United Arab Emirates', 'VERY HIGH ', '0.911', '78.7', '15.7', '12.7', '62574.0']\n",
            "['27', 'Spain', 'VERY HIGH ', '0.905', '83.0', '17.9', '10.6', '38354.0']\n",
            "['28', 'France', 'VERY HIGH ', '0.903', '82.5', '15.8', '11.6', '45937.0']\n",
            "['29', 'Cyprus', 'VERY HIGH ', '0.896', '81.2', '15.6', '12.4', '38188.0']\n",
            "['30', 'Italy', 'VERY HIGH ', '0.895', '82.9', '16.2', '10.7', '42840.0']\n",
            "['31', 'Estonia', 'VERY HIGH ', '0.89', '77.1', '15.9', '13.5', '38048.0']\n",
            "['32', 'Czechia', 'VERY HIGH ', '0.889', '77.7', '16.2', '12.9', '38745.0']\n",
            "['33', 'Greece', 'VERY HIGH ', '0.887', '80.1', '20.0', '11.4', '29002.0']\n",
            "['34', 'Poland', 'VERY HIGH ', '0.876', '76.5', '16.0', '13.2', '33034.0']\n",
            "['35', 'Bahrain', 'VERY HIGH ', '0.875', '78.8', '16.3', '11.0', '39497.0']\n",
            "['35', 'Lithuania', 'VERY HIGH ', '0.875', '73.7', '16.3', '13.5', '37931.0']\n",
            "['35', 'Saudi Arabia', 'VERY HIGH ', '0.875', '76.9', '16.1', '11.3', '46112.0']\n",
            "['38', 'Portugal', 'VERY HIGH ', '0.866', '81.0', '16.9', '9.6', '33155.0']\n",
            "['39', 'Latvia', 'VERY HIGH ', '0.863', '73.6', '16.2', '13.3', '32803.0']\n",
            "['40', 'Andorra', 'VERY HIGH ', '0.858', '80.4', '13.3', '10.6', '51167.0']\n",
            "['40', 'Croatia', 'VERY HIGH ', '0.858', '77.6', '15.1', '12.2', '30132.0']\n",
            "['42', 'Chile', 'VERY HIGH ', '0.855', '78.9', '16.7', '10.9', '24563.0']\n",
            "['42', 'Qatar', 'VERY HIGH ', '0.855', '79.3', '12.6', '10.0', '87134.0']\n",
            "['44', 'San Marino', 'VERY HIGH ', '0.853', '80.9', '12.3', '10.8', '52654.0']\n",
            "['45', 'Slovakia', 'VERY HIGH ', '0.848', '74.9', '14.5', '12.9', '30690.0']\n",
            "['46', 'Hungary', 'VERY HIGH ', '0.846', '74.5', '15.0', '12.2', '32789.0']\n",
            "['47', 'Argentina', 'VERY HIGH ', '0.842', '75.4', '17.9', '11.1', '20925.0']\n",
            "['48', 'Türkiye', 'VERY HIGH ', '0.838', '76.0', '18.3', '8.6', '31033.0']\n",
            "['49', 'Montenegro', 'VERY HIGH ', '0.832', '76.3', '15.1', '12.2', '20839.0']\n",
            "['50', 'Kuwait', 'VERY HIGH ', '0.831', '78.7', '15.3', '7.3', '52920.0']\n",
            "['51', 'Brunei Darussalam', 'VERY HIGH ', '0.829', '74.6', '14.0', '9.2', '64490.0']\n",
            "['52', 'Russian Federation', 'VERY HIGH ', '0.822', '69.4', '15.8', '12.8', '27166.0']\n",
            "['53', 'Romania', 'VERY HIGH ', '0.821', '74.2', '14.2', '11.3', '30027.0']\n",
            "['54', 'Oman', 'VERY HIGH ', '0.816', '72.5', '14.6', '11.7', '27054.0']\n",
            "['55', 'Bahamas', 'VERY HIGH ', '0.812', '71.6', '12.9', '12.6', '30486.0']\n",
            "['56', 'Kazakhstan', 'VERY HIGH ', '0.811', '69.4', '15.8', '12.3', '23943.0']\n",
            "['57', 'Trinidad and Tobago', 'VERY HIGH ', '0.81', '73.0', '14.5', '11.6', '23392.0']\n",
            "['58', 'Costa Rica', 'VERY HIGH ', '0.809', '77.0', '16.5', '8.8', '19974.0']\n",
            "['58', 'Uruguay', 'VERY HIGH ', '0.809', '75.4', '16.8', '9.0', '21269.0']\n",
            "['60', 'Belarus', 'VERY HIGH ', '0.808', '72.4', '15.2', '12.1', '18849.0']\n",
            "['61', 'Panama', 'VERY HIGH ', '0.805', '76.2', '13.1', '10.5', '26957.0']\n",
            "['62', 'Malaysia', 'VERY HIGH ', '0.803', '74.9', '13.3', '10.6', '26658.0']\n",
            "['63', 'Georgia', 'VERY HIGH ', '0.802', '71.7', '15.6', '12.8', '14664.0']\n",
            "['63', 'Mauritius', 'VERY HIGH ', '0.802', '73.6', '15.2', '10.4', '22025.0']\n",
            "['63', 'Serbia', 'VERY HIGH ', '0.802', '74.2', '14.4', '11.4', '19123.0']\n",
            "['66', 'Thailand', 'VERY HIGH ', '0.8', '78.7', '15.9', '8.7', '17030.0']\n",
            "['67', 'Albania', 'HIGH', '0.796', '76.5', '14.4', '11.3', '14131.0']\n",
            "['68', 'Bulgaria', 'HIGH', '0.795', '71.8', '13.9', '11.4', '23079.0']\n",
            "['68', 'Grenada', 'HIGH', '0.795', '74.9', '18.7', '9.0', '13484.0']\n",
            "['70', 'Barbados', 'HIGH', '0.79', '77.6', '15.7', '9.9', '12306.0']\n",
            "['71', 'Antigua and Barbuda', 'HIGH', '0.788', '78.5', '14.2', '9.3', '16792.0']\n",
            "['72', 'Seychelles', 'HIGH', '0.785', '71.3', '13.9', '10.3', '25831.0']\n",
            "['73', 'Sri Lanka', 'HIGH', '0.782', '76.4', '14.1', '10.8', '12578.0']\n",
            "['74', 'Bosnia and Herzegovina', 'HIGH', '0.78', '75.3', '13.8', '10.5', '15242.0']\n",
            "['75', 'Saint Kitts and Nevis', 'HIGH', '0.777', '71.7', '15.4', '8.7', '23358.0']\n",
            "['76', 'Iran (Islamic Republic of)', 'HIGH', '0.774', '73.9', '14.6', '10.6', '13001.0']\n",
            "['77', 'Ukraine', 'HIGH', '0.773', '71.6', '15.0', '11.1', '13256.0']\n",
            "['78', 'North Macedonia', 'HIGH', '0.77', '73.8', '13.6', '10.2', '15918.0']\n",
            "['79', 'China', 'HIGH', '0.768', '78.2', '14.2', '7.6', '17504.0']\n",
            "['80', 'Dominican Republic', 'HIGH', '0.767', '72.6', '14.5', '9.3', '17990.0']\n",
            "['80', 'Moldova (Republic of)', 'HIGH', '0.767', '68.8', '14.4', '11.8', '14875.0']\n",
            "['80', 'Palau', 'HIGH', '0.767', '66.0', '15.8', '12.5', '13819.0']\n",
            "['83', 'Cuba', 'HIGH', '0.764', '73.7', '14.4', '12.5', '7879.0']\n",
            "['84', 'Peru', 'HIGH', '0.762', '72.4', '15.4', '9.9', '12246.0']\n",
            "['85', 'Armenia', 'HIGH', '0.759', '72.0', '13.1', '11.3', '13158.0']\n",
            "['86', 'Mexico', 'HIGH', '0.758', '70.2', '14.9', '9.2', '17896.0']\n",
            "['87', 'Brazil', 'HIGH', '0.754', '72.8', '15.6', '8.1', '14370.0']\n",
            "['88', 'Colombia', 'HIGH', '0.752', '72.8', '14.4', '8.9', '14384.0']\n",
            "['89', 'Saint Vincent and the Grenadines', 'HIGH', '0.751', '69.6', '14.7', '10.8', '11961.0']\n",
            "['90', 'Maldives', 'HIGH', '0.747', '79.9', '12.6', '7.3', '15448.0']\n",
            "['91', 'Algeria', 'HIGH', '0.745', '76.4', '14.6', '8.1', '10800.0']\n",
            "['91', 'Azerbaijan', 'HIGH', '0.745', '69.4', '13.5', '10.5', '14257.0']\n",
            "['91', 'Tonga', 'HIGH', '0.745', '71.0', '16.0', '11.4', '6822.0']\n",
            "['91', 'Turkmenistan', 'HIGH', '0.745', '69.3', '13.2', '11.3', '13021.0']\n",
            "['95', 'Ecuador', 'HIGH', '0.74', '73.7', '14.6', '8.8', '10312.0']\n",
            "['96', 'Mongolia', 'HIGH', '0.739', '71.0', '15.0', '9.4', '10588.0']\n",
            "['97', 'Egypt', 'HIGH', '0.731', '70.2', '13.8', '9.6', '11732.0']\n",
            "['97', 'Tunisia', 'HIGH', '0.731', '73.8', '15.4', '7.4', '10258.0']\n",
            "['99', 'Fiji', 'HIGH', '0.73', '67.1', '14.7', '10.9', '9980.0']\n",
            "['99', 'Suriname', 'HIGH', '0.73', '70.3', '13.0', '9.8', '12672.0']\n",
            "['101', 'Uzbekistan', 'HIGH', '0.727', '70.9', '12.5', '11.9', '7917.0']\n",
            "['102', 'Dominica', 'HIGH', '0.72', '72.8', '13.3', '8.1', '11488.0']\n",
            "['102', 'Jordan', 'HIGH', '0.72', '74.3', '10.6', '10.4', '9924.0']\n",
            "['104', 'Libya', 'HIGH', '0.718', '71.9', '12.9', '7.6', '15336.0']\n",
            "['105', 'Paraguay', 'HIGH', '0.717', '70.3', '13.0', '8.9', '12349.0']\n",
            "['106', 'Palestine, State of', 'HIGH', '0.715', '73.5', '13.4', '9.9', '6583.0']\n",
            "['106', 'Saint Lucia', 'HIGH', '0.715', '71.1', '12.9', '8.5', '12048.0']\n",
            "['108', 'Guyana', 'HIGH', '0.714', '65.7', '12.5', '8.6', '22465.0']\n",
            "['109', 'South Africa', 'HIGH', '0.713', '62.3', '13.6', '11.4', '12948.0']\n",
            "['110', 'Jamaica', 'HIGH', '0.709', '70.5', '13.4', '9.2', '8834.0']\n",
            "['111', 'Samoa', 'HIGH', '0.707', '72.8', '12.4', '11.4', '5308.0']\n",
            "['112', 'Gabon', 'HIGH', '0.706', '65.8', '13.0', '9.4', '13367.0']\n",
            "['112', 'Lebanon', 'HIGH', '0.706', '75.0', '11.3', '8.7', '9526.0']\n",
            "['114', 'Indonesia', 'HIGH', '0.705', '67.6', '13.7', '8.6', '11466.0']\n",
            "['115', 'Viet Nam', 'HIGH', '0.703', '73.6', '13.0', '8.4', '7867.0']\n",
            "['116', 'Philippines', 'MEDIUM ', '0.699', '69.3', '13.1', '9.0', '8920.0']\n",
            "['117', 'Botswana', 'MEDIUM ', '0.693', '61.1', '12.3', '10.3', '16198.0']\n",
            "['118', 'Bolivia (Plurinational State of)', 'MEDIUM ', '0.692', '63.6', '14.9', '9.8', '8111.0']\n",
            "['118', 'Kyrgyzstan', 'MEDIUM ', '0.692', '70.0', '13.2', '11.4', '4566.0']\n",
            "['120', 'Venezuela (Bolivarian Republic of)', 'MEDIUM ', '0.691', '70.6', '12.8', '11.1', '4811.0']\n",
            "['121', 'Iraq', 'MEDIUM ', '0.686', '70.4', '12.1', '7.9', '9977.0']\n",
            "['122', 'Tajikistan', 'MEDIUM ', '0.685', '71.6', '11.7', '11.3', '4548.0']\n",
            "['123', 'Belize', 'MEDIUM ', '0.683', '70.5', '13.0', '8.8', '6309.0']\n",
            "['123', 'Morocco', 'MEDIUM ', '0.683', '74.0', '14.2', '5.9', '7303.0']\n",
            "['125', 'El Salvador', 'MEDIUM ', '0.675', '70.7', '12.7', '7.2', '8296.0']\n",
            "['126', 'Nicaragua', 'MEDIUM ', '0.667', '73.8', '12.6', '7.1', '5625.0']\n",
            "['127', 'Bhutan', 'MEDIUM ', '0.666', '71.8', '13.2', '5.2', '9438.0']\n",
            "['128', 'Cabo Verde', 'MEDIUM ', '0.662', '74.1', '12.6', '6.3', '6230.0']\n",
            "['129', 'Bangladesh', 'MEDIUM ', '0.661', '72.4', '12.4', '7.4', '5472.0']\n",
            "['130', 'Tuvalu', 'MEDIUM ', '0.641', '64.5', '9.4', '10.6', '6351.0']\n",
            "['131', 'Marshall Islands', 'MEDIUM ', '0.639', '65.3', '10.2', '10.9', '4620.0']\n",
            "['132', 'India', 'MEDIUM ', '0.633', '67.2', '11.9', '6.7', '6590.0']\n",
            "['133', 'Ghana', 'MEDIUM ', '0.632', '63.8', '12.0', '8.3', '5745.0']\n",
            "['134', 'Micronesia (Federated States of)', 'MEDIUM ', '0.628', '70.7', '11.5', '7.8', '3696.0']\n",
            "['135', 'Guatemala', 'MEDIUM ', '0.627', '69.2', '10.6', '5.7', '8723.0']\n",
            "['136', 'Kiribati', 'MEDIUM ', '0.624', '67.4', '11.8', '8.0', '4063.0']\n",
            "['137', 'Honduras', 'MEDIUM ', '0.621', '70.1', '10.1', '7.1', '5298.0']\n",
            "['138', 'Sao Tome and Principe', 'MEDIUM ', '0.618', '67.6', '13.4', '6.2', '4021.0']\n",
            "['139', 'Namibia', 'MEDIUM ', '0.615', '59.3', '11.9', '7.2', '8634.0']\n",
            "['140', \"Lao People's Democratic Republic\", 'MEDIUM ', '0.607', '68.1', '10.1', '5.4', '7700.0']\n",
            "['140', 'Timor-Leste', 'MEDIUM ', '0.607', '67.7', '12.6', '5.4', '4461.0']\n",
            "['140', 'Vanuatu', 'MEDIUM ', '0.607', '70.4', '11.5', '7.1', '3085.0']\n",
            "['143', 'Nepal', 'MEDIUM ', '0.602', '68.4', '12.9', '5.1', '3877.0']\n",
            "['144', 'Eswatini (Kingdom of)', 'MEDIUM ', '0.597', '57.1', '13.7', '5.6', '7679.0']\n",
            "['145', 'Equatorial Guinea', 'MEDIUM ', '0.596', '60.6', '9.7', '5.9', '12074.0']\n",
            "['146', 'Cambodia', 'MEDIUM ', '0.593', '69.6', '11.5', '5.1', '4079.0']\n",
            "['146', 'Zimbabwe', 'MEDIUM ', '0.593', '59.3', '12.1', '8.7', '3810.0']\n",
            "['148', 'Angola', 'MEDIUM ', '0.586', '61.6', '12.2', '5.4', '5466.0']\n",
            "['149', 'Myanmar', 'MEDIUM ', '0.585', '65.7', '10.9', '6.4', '3851.0']\n",
            "['150', 'Syrian Arab Republic', 'MEDIUM ', '0.577', '72.1', '9.2', '5.1', '4192.0']\n",
            "['151', 'Cameroon', 'MEDIUM ', '0.576', '60.3', '13.1', '6.2', '3621.0']\n",
            "['152', 'Kenya', 'MEDIUM ', '0.575', '61.4', '10.7', '6.7', '4474.0']\n",
            "['153', 'Congo', 'MEDIUM ', '0.571', '63.5', '12.3', '6.2', '2889.0']\n",
            "['154', 'Zambia', 'MEDIUM ', '0.565', '61.2', '10.9', '7.2', '3218.0']\n",
            "['155', 'Solomon Islands', 'MEDIUM ', '0.564', '70.3', '10.3', '5.7', '2482.0']\n",
            "['156', 'Comoros', 'MEDIUM ', '0.558', '63.4', '11.9', '5.1', '3142.0']\n",
            "['156', 'Papua New Guinea', 'MEDIUM ', '0.558', '65.4', '10.4', '4.7', '4009.0']\n",
            "['158', 'Mauritania', 'MEDIUM ', '0.556', '64.4', '9.4', '4.9', '5075.0']\n",
            "['159', \"Côte d'Ivoire\", 'MEDIUM ', '0.55', '58.6', '10.7', '5.2', '5217.0']\n",
            "['160', 'Tanzania (United Republic of)', 'LOW', '0.549', '66.2', '9.2', '6.4', '2664.0']\n",
            "['161', 'Pakistan', 'LOW', '0.544', '66.1', '8.7', '4.5', '4624.0']\n",
            "['162', 'Togo', 'LOW', '0.539', '61.6', '13.0', '5.0', '2167.0']\n",
            "['163', 'Haiti', 'LOW', '0.535', '63.2', '9.7', '5.6', '2848.0']\n",
            "['163', 'Nigeria', 'LOW', '0.535', '52.7', '10.1', '7.2', '4790.0']\n",
            "['165', 'Rwanda', 'LOW', '0.534', '66.1', '11.2', '4.4', '2210.0']\n",
            "['166', 'Benin', 'LOW', '0.525', '59.8', '10.8', '4.3', '3409.0']\n",
            "['166', 'Uganda', 'LOW', '0.525', '62.7', '10.1', '5.7', '2181.0']\n",
            "['168', 'Lesotho', 'LOW', '0.514', '53.1', '12.0', '6.0', '2700.0']\n",
            "['169', 'Malawi', 'LOW', '0.512', '62.9', '12.7', '4.5', '1466.0']\n",
            "['170', 'Senegal', 'LOW', '0.511', '67.1', '9.0', '2.9', '3344.0']\n",
            "['171', 'Djibouti', 'LOW', '0.509', '62.3', '7.4', '4.1', '5025.0']\n",
            "['172', 'Sudan', 'LOW', '0.508', '65.3', '7.9', '3.8', '3575.0']\n",
            "['173', 'Madagascar', 'LOW', '0.501', '64.5', '10.1', '5.1', '1484.0']\n",
            "['174', 'Gambia', 'LOW', '0.5', '62.1', '9.4', '4.6', '2172.0']\n",
            "['175', 'Ethiopia', 'LOW', '0.498', '65.0', '9.7', '3.2', '2361.0']\n",
            "['176', 'Eritrea', 'LOW', '0.492', '66.5', '8.1', '4.9', '1729.0']\n",
            "['177', 'Guinea-Bissau', 'LOW', '0.483', '59.7', '10.6', '3.6', '1908.0']\n",
            "['178', 'Liberia', 'LOW', '0.481', '60.7', '10.4', '5.1', '1289.0']\n",
            "['179', 'Congo (Democratic Republic of the)', 'LOW', '0.479', '59.2', '9.8', '7.0', '1076.0']\n",
            "['180', 'Afghanistan', 'LOW', '0.478', '62.0', '10.3', '3.0', '1824.0']\n",
            "['181', 'Sierra Leone', 'LOW', '0.477', '60.1', '9.6', '4.6', '1622.0']\n",
            "['182', 'Guinea', 'LOW', '0.465', '58.9', '9.8', '2.2', '2481.0']\n",
            "['183', 'Yemen', 'LOW', '0.455', '63.8', '9.1', '3.2', '1314.0']\n",
            "['184', 'Burkina Faso', 'LOW', '0.449', '59.3', '9.1', '2.1', '2118.0']\n",
            "['185', 'Mozambique', 'LOW', '0.446', '59.3', '10.2', '3.2', '1198.0']\n",
            "['186', 'Mali', 'LOW', '0.428', '58.9', '7.4', '2.3', '2133.0']\n",
            "['187', 'Burundi', 'LOW', '0.426', '61.7', '10.7', '3.1', '732.0']\n",
            "['188', 'Central African Republic', 'LOW', '0.404', '53.9', '8.0', '4.3', '966.0']\n",
            "['189', 'Niger', 'LOW', '0.4', '61.6', '7.0', '2.1', '1240.0']\n",
            "['190', 'Chad', 'LOW', '0.394', '52.5', '8.0', '2.6', '1364.0']\n",
            "['191', 'South Sudan', 'LOW', '0.385', '55.0', '5.5', '5.7', '768.0']\n"
          ]
        }
      ]
    },
    {
      "cell_type": "code",
      "source": [
        "f = open(r'/content/clear.csv')\n",
        "\n",
        "csv_reader1 = csv.reader(f)\n",
        "print(csv_reader1)"
      ],
      "metadata": {
        "colab": {
          "base_uri": "https://localhost:8080/"
        },
        "id": "fo7r0j5PI_WK",
        "outputId": "a1b7f1c0-232e-48c1-8868-2ecb040d5dc9"
      },
      "execution_count": null,
      "outputs": [
        {
          "output_type": "stream",
          "name": "stdout",
          "text": [
            "<_csv.reader object at 0x7c51bd5844a0>\n"
          ]
        }
      ]
    },
    {
      "cell_type": "markdown",
      "source": [],
      "metadata": {
        "id": "IjZsHCvM_ms4"
      }
    },
    {
      "cell_type": "code",
      "source": [
        "#список категорий человеческого развития для отбора\n",
        "human_development = ['LOW','MEDIUM ']\n",
        "\n",
        "#инициализация пустого списка\n",
        "human_data = []\n",
        "\n",
        "#пропускает заголовки\n",
        "next(csv_reader1, None)\n",
        "\n",
        "#читаем данные из CSV-файла построчно\n",
        "for row in csv_reader1:\n",
        "    if(row[2] in human_development):  #проверяем, содержат ли текущие данные выбранную категорию\n",
        "        row[3] = '{:.1f}%'.format(float(row[3]) * 100) #развитие чел.потенциала превращаем в процентное значение\n",
        "        human_data.append(row)\n",
        "\n",
        "#количества строк, соответствующих условиям\n",
        "print(len(human_data))\n",
        "\n",
        "#первые 2 строки из human_data\n",
        "print(human_data[0:2])"
      ],
      "metadata": {
        "colab": {
          "base_uri": "https://localhost:8080/"
        },
        "id": "mma93is2M3Tr",
        "outputId": "4a467cf0-6387-40b9-e4b2-49302c099572"
      },
      "execution_count": null,
      "outputs": [
        {
          "output_type": "stream",
          "name": "stdout",
          "text": [
            "76\n",
            "[['116', 'Philippines', 'MEDIUM ', '69.9%', '69.3', '13.1', '9.0', '8920.0'], ['117', 'Botswana', 'MEDIUM ', '69.3%', '61.1', '12.3', '10.3', '16198.0']]\n"
          ]
        }
      ]
    },
    {
      "cell_type": "markdown",
      "source": [
        "Загрузка данных в SQL DB"
      ],
      "metadata": {
        "id": "kyY9A-EjCMkI"
      }
    },
    {
      "cell_type": "code",
      "source": [
        "import sqlite3\n",
        "\n",
        "#открывает подключение к файлу базы данных SQLite\n",
        "conn = sqlite3.connect('session.db')"
      ],
      "metadata": {
        "id": "Z_iwPKY0O12e"
      },
      "execution_count": null,
      "outputs": []
    },
    {
      "cell_type": "code",
      "source": [
        "#удаление существующей таблицы  Life\n",
        "try:\n",
        "    conn.execute('DROP TABLE IF EXISTS `Life`')\n",
        "except Exception as e:\n",
        "    print(str(e))"
      ],
      "metadata": {
        "id": "53Jmpx8LO5rz"
      },
      "execution_count": null,
      "outputs": []
    },
    {
      "cell_type": "code",
      "source": [
        "#создание новой таблицы Life\n",
        "try:\n",
        "    conn.execute('''\n",
        "         CREATE TABLE life\n",
        "         (ID         INTEGER PRIMARY KEY,\n",
        "         country        TEXT    NOT NULL,\n",
        "         rank        INTEGER DEFAULT 0,\n",
        "         index_h        Float DEFAULT 0,\n",
        "         birth        Float DEFAULT 0);''')\n",
        "    print (\"Table created successfully\");\n",
        "except Exception as e:\n",
        "    print(str(e))\n",
        "    print('Table Creation Failed!!!!!')\n",
        "finally:\n",
        "    conn.close() #закрывает подключение к базе данных"
      ],
      "metadata": {
        "colab": {
          "base_uri": "https://localhost:8080/"
        },
        "id": "yY5dSZjaSaDb",
        "outputId": "d07699f0-e219-42e5-b109-e8263585fac6"
      },
      "execution_count": null,
      "outputs": [
        {
          "output_type": "stream",
          "name": "stdout",
          "text": [
            "Table created successfully\n"
          ]
        }
      ]
    },
    {
      "cell_type": "code",
      "source": [
        "import sqlite3\n",
        "\n",
        "#устанавливаем соединение с базой данных\n",
        "conn = sqlite3.connect('session.db')\n",
        "cursor = conn.cursor()\n",
        "\n",
        "#выполняем запрос SQL для получения списка таблиц\n",
        "cursor.execute(\"SELECT name FROM sqlite_master WHERE type='table';\")\n",
        "tables = cursor.fetchall()\n",
        "\n",
        "#выводим список таблиц\n",
        "print(\"Список таблиц:\")\n",
        "for table in tables:\n",
        "    print(table[0])\n",
        "\n",
        "#закрываем соединение с базой данных\n",
        "conn.close()"
      ],
      "metadata": {
        "colab": {
          "base_uri": "https://localhost:8080/"
        },
        "id": "zOvUbEVbROE3",
        "outputId": "e30a1a86-e7a3-4aba-daa1-7e8aa6cd0112"
      },
      "execution_count": null,
      "outputs": [
        {
          "output_type": "stream",
          "name": "stdout",
          "text": [
            "Список таблиц:\n",
            "Crypto\n",
            "life\n"
          ]
        }
      ]
    },
    {
      "cell_type": "code",
      "source": [
        "#данные содержат больше информации, чем требуется - исключим часть из них\n",
        "print(human_data[0])"
      ],
      "metadata": {
        "colab": {
          "base_uri": "https://localhost:8080/"
        },
        "id": "FAL3PhvwPEfE",
        "outputId": "ffad6a92-71f2-424d-fee9-e3a6f74fd8e2"
      },
      "execution_count": null,
      "outputs": [
        {
          "output_type": "stream",
          "name": "stdout",
          "text": [
            "['116', 'Philippines', 'MEDIUM ', '69.9%', '69.3', '13.1', '9.0', '8920.0']\n"
          ]
        }
      ]
    },
    {
      "cell_type": "code",
      "source": [
        "#дополнительные преобразования\n",
        "crypto_sql_data = [(row[1], row[0], row[3], row[4]) for row in human_data]\n",
        "crypto_sql_data[:2]"
      ],
      "metadata": {
        "colab": {
          "base_uri": "https://localhost:8080/"
        },
        "id": "hJKrcEKCPGoX",
        "outputId": "08649663-0b34-41d7-956b-9ab7bf5322d6"
      },
      "execution_count": null,
      "outputs": [
        {
          "output_type": "execute_result",
          "data": {
            "text/plain": [
              "[('Philippines', '116', '69.9%', '69.3'), ('Botswana', '117', '69.3%', '61.1')]"
            ]
          },
          "metadata": {},
          "execution_count": 25
        }
      ]
    },
    {
      "cell_type": "code",
      "source": [
        "#создание нового подключения для вставки новых данных в базу данных SQL\n",
        "conn = sqlite3.connect('session.db')\n",
        "cur = conn.cursor()\n",
        "try:\n",
        "    cur.executemany(\"INSERT INTO life(country, rank, index_h, birth) VALUES (?,?,?,?)\", crypto_sql_data)\n",
        "    conn.commit()\n",
        "    print('Data Inserted Successfully')\n",
        "except Exception as e:\n",
        "    print(str(e))\n",
        "    print('Data Insertion Failed')\n",
        "finally:\n",
        "    conn.close()"
      ],
      "metadata": {
        "colab": {
          "base_uri": "https://localhost:8080/"
        },
        "id": "3Dw4G3cYPI3y",
        "outputId": "d6e274cd-74f8-4bc0-a5a1-910544686223"
      },
      "execution_count": null,
      "outputs": [
        {
          "output_type": "stream",
          "name": "stdout",
          "text": [
            "Data Inserted Successfully\n"
          ]
        }
      ]
    },
    {
      "cell_type": "code",
      "source": [
        "#чтение данных из БД, чтобы проверить их\n",
        "conn = sqlite3.connect('session.db')\n",
        "rows = conn.cursor().execute('Select * from life')\n",
        "\n",
        "for row in rows:\n",
        "    print(row)"
      ],
      "metadata": {
        "colab": {
          "base_uri": "https://localhost:8080/"
        },
        "id": "46CbBIZ4PLow",
        "outputId": "72caaf0f-8c24-42cf-c527-378da761b2d1"
      },
      "execution_count": null,
      "outputs": [
        {
          "output_type": "stream",
          "name": "stdout",
          "text": [
            "(1, 'Philippines', 116, '69.9%', 69.3)\n",
            "(2, 'Botswana', 117, '69.3%', 61.1)\n",
            "(3, 'Bolivia (Plurinational State of)', 118, '69.2%', 63.6)\n",
            "(4, 'Kyrgyzstan', 118, '69.2%', 70.0)\n",
            "(5, 'Venezuela (Bolivarian Republic of)', 120, '69.1%', 70.6)\n",
            "(6, 'Iraq', 121, '68.6%', 70.4)\n",
            "(7, 'Tajikistan', 122, '68.5%', 71.6)\n",
            "(8, 'Belize', 123, '68.3%', 70.5)\n",
            "(9, 'Morocco', 123, '68.3%', 74.0)\n",
            "(10, 'El Salvador', 125, '67.5%', 70.7)\n",
            "(11, 'Nicaragua', 126, '66.7%', 73.8)\n",
            "(12, 'Bhutan', 127, '66.6%', 71.8)\n",
            "(13, 'Cabo Verde', 128, '66.2%', 74.1)\n",
            "(14, 'Bangladesh', 129, '66.1%', 72.4)\n",
            "(15, 'Tuvalu', 130, '64.1%', 64.5)\n",
            "(16, 'Marshall Islands', 131, '63.9%', 65.3)\n",
            "(17, 'India', 132, '63.3%', 67.2)\n",
            "(18, 'Ghana', 133, '63.2%', 63.8)\n",
            "(19, 'Micronesia (Federated States of)', 134, '62.8%', 70.7)\n",
            "(20, 'Guatemala', 135, '62.7%', 69.2)\n",
            "(21, 'Kiribati', 136, '62.4%', 67.4)\n",
            "(22, 'Honduras', 137, '62.1%', 70.1)\n",
            "(23, 'Sao Tome and Principe', 138, '61.8%', 67.6)\n",
            "(24, 'Namibia', 139, '61.5%', 59.3)\n",
            "(25, \"Lao People's Democratic Republic\", 140, '60.7%', 68.1)\n",
            "(26, 'Timor-Leste', 140, '60.7%', 67.7)\n",
            "(27, 'Vanuatu', 140, '60.7%', 70.4)\n",
            "(28, 'Nepal', 143, '60.2%', 68.4)\n",
            "(29, 'Eswatini (Kingdom of)', 144, '59.7%', 57.1)\n",
            "(30, 'Equatorial Guinea', 145, '59.6%', 60.6)\n",
            "(31, 'Cambodia', 146, '59.3%', 69.6)\n",
            "(32, 'Zimbabwe', 146, '59.3%', 59.3)\n",
            "(33, 'Angola', 148, '58.6%', 61.6)\n",
            "(34, 'Myanmar', 149, '58.5%', 65.7)\n",
            "(35, 'Syrian Arab Republic', 150, '57.7%', 72.1)\n",
            "(36, 'Cameroon', 151, '57.6%', 60.3)\n",
            "(37, 'Kenya', 152, '57.5%', 61.4)\n",
            "(38, 'Congo', 153, '57.1%', 63.5)\n",
            "(39, 'Zambia', 154, '56.5%', 61.2)\n",
            "(40, 'Solomon Islands', 155, '56.4%', 70.3)\n",
            "(41, 'Comoros', 156, '55.8%', 63.4)\n",
            "(42, 'Papua New Guinea', 156, '55.8%', 65.4)\n",
            "(43, 'Mauritania', 158, '55.6%', 64.4)\n",
            "(44, \"Côte d'Ivoire\", 159, '55.0%', 58.6)\n",
            "(45, 'Tanzania (United Republic of)', 160, '54.9%', 66.2)\n",
            "(46, 'Pakistan', 161, '54.4%', 66.1)\n",
            "(47, 'Togo', 162, '53.9%', 61.6)\n",
            "(48, 'Haiti', 163, '53.5%', 63.2)\n",
            "(49, 'Nigeria', 163, '53.5%', 52.7)\n",
            "(50, 'Rwanda', 165, '53.4%', 66.1)\n",
            "(51, 'Benin', 166, '52.5%', 59.8)\n",
            "(52, 'Uganda', 166, '52.5%', 62.7)\n",
            "(53, 'Lesotho', 168, '51.4%', 53.1)\n",
            "(54, 'Malawi', 169, '51.2%', 62.9)\n",
            "(55, 'Senegal', 170, '51.1%', 67.1)\n",
            "(56, 'Djibouti', 171, '50.9%', 62.3)\n",
            "(57, 'Sudan', 172, '50.8%', 65.3)\n",
            "(58, 'Madagascar', 173, '50.1%', 64.5)\n",
            "(59, 'Gambia', 174, '50.0%', 62.1)\n",
            "(60, 'Ethiopia', 175, '49.8%', 65.0)\n",
            "(61, 'Eritrea', 176, '49.2%', 66.5)\n",
            "(62, 'Guinea-Bissau', 177, '48.3%', 59.7)\n",
            "(63, 'Liberia', 178, '48.1%', 60.7)\n",
            "(64, 'Congo (Democratic Republic of the)', 179, '47.9%', 59.2)\n",
            "(65, 'Afghanistan', 180, '47.8%', 62.0)\n",
            "(66, 'Sierra Leone', 181, '47.7%', 60.1)\n",
            "(67, 'Guinea', 182, '46.5%', 58.9)\n",
            "(68, 'Yemen', 183, '45.5%', 63.8)\n",
            "(69, 'Burkina Faso', 184, '44.9%', 59.3)\n",
            "(70, 'Mozambique', 185, '44.6%', 59.3)\n",
            "(71, 'Mali', 186, '42.8%', 58.9)\n",
            "(72, 'Burundi', 187, '42.6%', 61.7)\n",
            "(73, 'Central African Republic', 188, '40.4%', 53.9)\n",
            "(74, 'Niger', 189, '40.0%', 61.6)\n",
            "(75, 'Chad', 190, '39.4%', 52.5)\n",
            "(76, 'South Sudan', 191, '38.5%', 55.0)\n"
          ]
        }
      ]
    },
    {
      "cell_type": "code",
      "source": [
        "csvfile = open('life.csv', 'w')\n",
        "csv_writer = csv.writer(csvfile, lineterminator='\\r')\n",
        "#записываем данные в файл\n",
        "csv_writer.writerow(['country', 'rank', 'index_h', 'birth'])\n",
        "csv_writer.writerows(crypto_sql_data)\n",
        "csvfile.close()"
      ],
      "metadata": {
        "id": "Kf_IXOibPPjC"
      },
      "execution_count": null,
      "outputs": []
    }
  ],
  "metadata": {
    "kernelspec": {
      "display_name": "Python 3",
      "language": "python",
      "name": "python3"
    },
    "language_info": {
      "codemirror_mode": {
        "name": "ipython",
        "version": 3
      },
      "file_extension": ".py",
      "mimetype": "text/x-python",
      "name": "python",
      "nbconvert_exporter": "python",
      "pygments_lexer": "ipython3",
      "version": "3.6.5"
    },
    "colab": {
      "provenance": []
    }
  },
  "nbformat": 4,
  "nbformat_minor": 0
}